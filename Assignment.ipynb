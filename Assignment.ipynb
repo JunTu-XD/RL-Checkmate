{
 "cells": [
  {
   "cell_type": "markdown",
   "id": "02944396",
   "metadata": {},
   "source": [
    "# Assignment"
   ]
  },
  {
   "cell_type": "code",
   "execution_count": 2,
   "id": "c9652bc6",
   "metadata": {},
   "outputs": [],
   "source": [
    "# Import \n",
    "\n",
    "import numpy as np\n",
    "import matplotlib.pyplot as plt\n",
    "from degree_freedom_queen import *\n",
    "from degree_freedom_king1 import *\n",
    "from degree_freedom_king2 import *\n",
    "from generate_game import *\n",
    "from Chess_env import *\n",
    "from chess_student import *\n",
    "\n",
    "size_board = 4"
   ]
  },
  {
   "cell_type": "markdown",
   "id": "0bceca7c",
   "metadata": {},
   "source": [
    "## The Environment\n",
    "\n",
    "You can find the environment in the file Chess_env, which contains the class Chess_env. To define an object, you need to provide the board size considered as input. In our example, size_board=4. \n",
    "Chess_env is composed by the following methods:\n",
    "\n",
    "1. Initialise_game. The method initialises an episode by placing the three pieces considered (Agent's king and queen, enemy's king) in the chess board. The outputs of the method are described below in order.\n",
    "\n",
    "     S $\\;$ A matrix representing the board locations filled with 4 numbers: 0, no piece in that position; 1, location of the \n",
    "     agent's king; 2 location of the queen; 3 location of the enemy king.\n",
    "     \n",
    "     X $\\;$ The features, that is the input to the neural network. See the assignment for more information regarding the            definition of the features adopted. To personalise this, go into the Features method of the class Chess_env() and change        accordingly.\n",
    "     \n",
    "     allowed_a $\\;$ The allowed actions that the agent can make. The agent is moving a king, with a total number of 8                possible actions, and a queen, with a total number of $(board_{size}-1)\\times 8$ actions. The total number of possible actions correspond      to the sum of the two, but not all actions are allowed in a given position (movements to locations outside the borders or      against chess rules). Thus, the variable allowed_a is a vector that is one (zero) for an action that the agent can (can't)      make. Be careful, apply the policy considered on the actions that are allowed only.\n",
    "     \n",
    "\n",
    "2. OneStep. The method performs a one step update of the system. Given as input the action selected by the agent, it updates the chess board by performing that action and the response of the enemy king (which is a random allowed action in the settings considered). The first three outputs are the same as for the Initialise_game method, but the variables are computed for the position reached after the update of the system. The fourth and fifth outputs are:\n",
    "\n",
    "     R $\\;$ The reward. To change this, look at the OneStep method of the class where the rewards are set.\n",
    "     \n",
    "     Done $\\;$ A variable that is 1 if the episode has ended (checkmate or draw).\n",
    "     \n",
    "     \n",
    "3. Features. Given the chessboard position, the method computes the features.\n",
    "\n",
    "This information and a quick analysis of the class should be all you need to get going. The other functions that the class exploits are uncommented and constitute an example on how not to write a python code. You can take a look at them if you want, but it is not necessary.\n",
    "\n",
    "\n",
    "\n",
    "\n"
   ]
  },
  {
   "cell_type": "code",
   "execution_count": 3,
   "id": "9593a299",
   "metadata": {},
   "outputs": [],
   "source": [
    "## INITIALISE THE ENVIRONMENT\n",
    "\n",
    "env=Chess_Env(size_board)"
   ]
  },
  {
   "cell_type": "code",
   "execution_count": 4,
   "id": "bbc05bfd",
   "metadata": {},
   "outputs": [
    {
     "name": "stdout",
     "output_type": "stream",
     "text": [
      "[0. 0. 0. 0. 0. 0. 0. 0. 0. 0. 0. 0. 0. 1. 0. 0. 0. 0. 0. 0. 0. 0. 0. 0.\n",
      " 0. 0. 1. 0. 0. 0. 0. 0. 0. 0. 0. 1. 0. 0. 0. 0. 0. 0. 0. 0. 0. 0. 0. 0.\n",
      " 1. 0. 1. 0. 0. 0. 0. 0. 0. 0.]\n",
      "[[0 0 0 3]\n",
      " [0 0 0 0]\n",
      " [0 0 2 0]\n",
      " [0 1 0 0]]\n",
      "check?  0\n",
      "dofk2  0\n",
      "\n",
      "[[0 0 0 0]\n",
      " [0 0 0 3]\n",
      " [2 0 0 0]\n",
      " [0 1 0 0]]\n",
      "0  0\n",
      "check?  0\n",
      "dofk2  2\n",
      "\n",
      "[[0 0 0 0]\n",
      " [0 0 0 0]\n",
      " [2 1 0 3]\n",
      " [0 0 0 0]]\n",
      "0  0\n",
      "check?  0\n",
      "dofk2  2\n",
      "\n",
      "[[0 0 0 0]\n",
      " [0 0 0 3]\n",
      " [0 1 0 0]\n",
      " [2 0 0 0]]\n",
      "0  0\n",
      "check?  0\n",
      "dofk2  3\n",
      "\n",
      "[[0 0 0 3]\n",
      " [2 0 0 0]\n",
      " [0 1 0 0]\n",
      " [0 0 0 0]]\n",
      "0  0\n",
      "check?  0\n",
      "dofk2  1\n",
      "\n",
      "[[0 0 3 0]\n",
      " [2 0 0 0]\n",
      " [0 0 0 0]\n",
      " [0 1 0 0]]\n",
      "0  0\n",
      "check?  0\n",
      "dofk2  1\n"
     ]
    }
   ],
   "source": [
    "## PRINT 5 STEPS OF AN EPISODE CONSIDERING A RANDOM AGENT\n",
    "\n",
    "S,X,allowed_a=env.Initialise_game()                       # INTIALISE GAME\n",
    "print(env.Features())\n",
    "\n",
    "print(S)                                                  # PRINT CHESS BOARD (SEE THE DESCRIPTION ABOVE)\n",
    "\n",
    "print('check? ',env.check)                                # PRINT VARIABLE THAT TELLS IF ENEMY KING IS IN CHECK (1) OR NOT (0)\n",
    "print('dofk2 ',np.sum(env.dfk2_constrain).astype(int))    # PRINT THE NUMBER OF LOCATIONS THAT THE ENEMY KING CAN MOVE TO\n",
    "\n",
    "\n",
    "for i in range(5):\n",
    "    \n",
    "    a,_=np.where(allowed_a==1)                  # FIND WHAT THE ALLOWED ACTIONS ARE\n",
    "    a_agent=np.random.permutation(a)[0]         # MAKE A RANDOM ACTION\n",
    "\n",
    "    S,X,allowed_a,R,Done=env.OneStep(a_agent)   # UPDATE THE ENVIRONMENT\n",
    "    \n",
    "    \n",
    "    ## PRINT CHESS BOARD AND VARIABLES\n",
    "    print('')\n",
    "    print(S)\n",
    "    print(R,'', Done)\n",
    "    print('check? ',env.check)\n",
    "    print('dofk2 ',np.sum(env.dfk2_constrain).astype(int))\n",
    "    \n",
    "    \n",
    "    # TERMINATE THE EPISODE IF Done=True (DRAW OR CHECKMATE)\n",
    "    if Done:\n",
    "        break"
   ]
  },
  {
   "cell_type": "code",
   "execution_count": 11,
   "outputs": [
    {
     "name": "stdout",
     "output_type": "stream",
     "text": [
      " Training process 5.0%  avg_R: 0.25, avg_steps:11.57"
     ]
    }
   ],
   "source": [
    "# INITIALISE THE PARAMETERS OF YOUR NEURAL NETWORK AND...\n",
    "# PLEASE CONSIDER TO USE A MASK OF ONE FOR THE ACTION MADE AND ZERO OTHERWISE IF YOU ARE NOT USING VANILLA GRADIENT DESCENT...\n",
    "# WE SUGGEST A NETWORK WITH ONE HIDDEN LAYER WITH SIZE 200.\n",
    "from Q_values import Q_values\n",
    "\n",
    "S,X,allowed_a=env.Initialise_game()\n",
    "N_a=np.shape(allowed_a)[0]   # TOTAL NUMBER OF POSSIBLE ACTIONS\n",
    "\n",
    "N_in=np.shape(X)[0]    ## INPUT SIZE\n",
    "N_h=200                ## NUMBER OF HIDDEN NODES\n",
    "\n",
    "## INITALISE YOUR NEURAL NETWORK...\n",
    "q_value = Q_values([N_in, N_h, N_a])\n",
    "# HYPERPARAMETERS SUGGESTED (FOR A GRID SIZE OF 4)\n",
    "\n",
    "epsilon_0 = 0.2     # STARTING VALUE OF EPSILON FOR THE EPSILON-GREEDY POLICY\n",
    "beta = 0.00005      # THE PARAMETER SETS HOW QUICKLY THE VALUE OF EPSILON IS DECAYING (SEE epsilon_f BELOW)\n",
    "gamma = 0.85        # THE DISCOUNT FACTOR\n",
    "eta = 0.0035        # THE LEARNING RATE\n",
    "\n",
    "N_episodes = 100000 # THE NUMBER OF GAMES TO BE PLAYED\n",
    "\n",
    "def agent_action(value_function_model, X, allowed_a):\n",
    "    (V,_) = value_function_model(X)\n",
    "    allow_v = np.copy(V)\n",
    "    allow_v[np.where(allowed_a.flatten()!=1)] = 0\n",
    "    if (np.max(allow_v) == 0):\n",
    "        return np.random.permutation(np.where(allowed_a.flatten()==1)[0])[0]\n",
    "    else:\n",
    "        return np.argmax(allow_v)\n",
    "\n",
    "def play_one_game(value_function):\n",
    "    S,X,allowed_a=env.Initialise_game()     # INITIALISE GAME\n",
    "    Done=0                                  # SET Done=0 AT THE BEGINNING\n",
    "    i=1                                     # COUNTER FOR THE NUMBER OF ACTIONS (MOVES) IN AN EPISODE\n",
    "    while Done==0:\n",
    "        a_agent = agent_action(value_function, X, allowed_a)\n",
    "        S,X,allowed_a,R,Done=env.OneStep(a_agent)\n",
    "        if Done:\n",
    "            return (R,i)\n",
    "        if i>16:\n",
    "            return (R,i)\n",
    "        i=i+1\n",
    "def period_validate(function_model, validate_games):\n",
    "    # SAVING VARIABLES\n",
    "    R_save_temp = np.zeros([validate_games, 1])\n",
    "    N_moves_save_temp = np.zeros([validate_games, 1])\n",
    "    for n in range(validate_games):\n",
    "        (R, n_moves) = play_one_game(function_model)\n",
    "        R_save_temp[n]=np.copy(R)\n",
    "        N_moves_save_temp[n]=np.copy(n_moves)\n",
    "    return (np.mean(R_save_temp),np.mean(N_moves_save_temp))\n",
    "\n",
    "def train(N_episodes, epsilon_0):\n",
    "    # TRAINING LOOP BONE STRUCTURE\n",
    "    R_seq = []\n",
    "    N_step_seq = []\n",
    "    x_axis = []\n",
    "    dead_seq = []\n",
    "\n",
    "    for n in range(N_episodes):\n",
    "        epsilon_f = epsilon_0 / (1 + beta * n)   ## DECAYING EPSILON\n",
    "        Done=0                                   ## SET DONE TO ZERO (BEGINNING OF THE EPISODE)\n",
    "        S,X,allowed_a=env.Initialise_game()\n",
    "        ## INITIALISE GAME\n",
    "        while Done==0:                           ## START THE EPISODE\n",
    "            ## THIS IS A RANDOM AGENT, CHANGE IT...\n",
    "            (qv, neuron_value) = q_value.q_values(X)\n",
    "            a_agent=epsilon_greedy(qv, np.asarray(allowed_a), epsilon_f)\n",
    "\n",
    "            S_next,X_next,allowed_a_next,R,Done=env.OneStep(a_agent)\n",
    "\n",
    "            ## THE EPISODE HAS ENDED, UPDATE...BE CAREFUL, THIS IS THE LAST STEP OF THE EPISODE\n",
    "            if Done==1:\n",
    "                q_value.update_q_func(eta, neuron_value, a_agent, R, qv)\n",
    "                break\n",
    "            # IF THE EPISODE IS NOT OVER...\n",
    "            else:\n",
    "                (Q_next, _) = q_value.q_values(X_next)\n",
    "                future_R = R + gamma * np.max(Q_next)\n",
    "                q_value.update_q_func(eta, neuron_value, a_agent, future_R, qv)\n",
    "            # NEXT STATE AND CO. BECOME ACTUAL STATE...\n",
    "            S=np.copy(S_next)\n",
    "            X=np.copy(X_next)\n",
    "            allowed_a=np.copy(allowed_a_next)\n",
    "\n",
    "        ## print process\n",
    "        ## temp validate\n",
    "        if (n % 1000 == 0 ):\n",
    "            (avg_R, avg_n) = period_validate(lambda X_in: q_value.q_values(X_in), 100)\n",
    "            print(f\"\\r Training process {np.round(n/N_episodes*100,2)}%  \"\n",
    "                  f\"avg_R: {avg_R}, avg_steps:{avg_n}\", end=\"\", flush=True)\n",
    "\n",
    "            x_axis.append(n)\n",
    "            R_seq.append(avg_R)\n",
    "            N_step_seq.append(avg_n)\n",
    "            dead_neuron = 0\n",
    "            for (w,b) in q_value.nn.W_bias:\n",
    "                for neuron_idx in range(w.shape[1]):\n",
    "                    if np.where(w[:, neuron_idx]==0)[0].shape[0] == w[:, neuron_idx].shape[0]:\n",
    "                        dead_neuron+=1\n",
    "\n",
    "            plt.figure(1)\n",
    "            plt.plot(n, dead_neuron)\n",
    "\n",
    "train(N_episodes, epsilon_0)"
   ],
   "metadata": {
    "collapsed": false,
    "pycharm": {
     "name": "#%%\n"
    }
   }
  },
  {
   "cell_type": "code",
   "execution_count": 6,
   "outputs": [
    {
     "name": "stdout",
     "output_type": "stream",
     "text": [
      "Random_Agent, Average reward: 0.209 Number of steps:  6.11\n"
     ]
    }
   ],
   "source": [
    "# PERFORM N_episodes=1000 EPISODES MAKING RANDOM ACTIONS AND COMPUTE THE AVERAGE REWARD AND NUMBER OF MOVES\n",
    "def random_test():\n",
    "    N_episodes=1000\n",
    "    R_save_random = np.zeros([N_episodes, 1])\n",
    "    N_moves_save_random = np.zeros([N_episodes, 1])\n",
    "    for n in range(N_episodes):\n",
    "        (R,i) = play_one_game(lambda X_in: (np.random.random(32), [] ))\n",
    "        R_save_random[n]=np.copy(R)\n",
    "        N_moves_save_random[n]=np.copy(i)\n",
    "    print('Random_Agent, Average reward:',np.mean(R_save_random),'Number of steps: ',np.mean(N_moves_save_random))\n",
    "random_test()"
   ],
   "metadata": {
    "collapsed": false,
    "pycharm": {
     "name": "#%%\n"
    }
   }
  },
  {
   "cell_type": "code",
   "execution_count": 6,
   "outputs": [],
   "source": [],
   "metadata": {
    "collapsed": false,
    "pycharm": {
     "name": "#%%\n"
    }
   }
  }
 ],
 "metadata": {
  "kernelspec": {
   "display_name": "Python 3 (ipykernel)",
   "language": "python",
   "name": "python3"
  },
  "language_info": {
   "codemirror_mode": {
    "name": "ipython",
    "version": 3
   },
   "file_extension": ".py",
   "mimetype": "text/x-python",
   "name": "python",
   "nbconvert_exporter": "python",
   "pygments_lexer": "ipython3",
   "version": "3.9.10"
  }
 },
 "nbformat": 4,
 "nbformat_minor": 5
}