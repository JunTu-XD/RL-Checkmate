{
 "cells": [
  {
   "cell_type": "markdown",
   "id": "02944396",
   "metadata": {},
   "source": [
    "# Assignment"
   ]
  },
  {
   "cell_type": "code",
   "execution_count": 1,
   "id": "c9652bc6",
   "metadata": {},
   "outputs": [],
   "source": [
    "# Import \n",
    "\n",
    "import numpy as np\n",
    "import matplotlib.pyplot as plt\n",
    "from degree_freedom_queen import *\n",
    "from degree_freedom_king1 import *\n",
    "from degree_freedom_king2 import *\n",
    "from generate_game import *\n",
    "from Chess_env import *\n",
    "from Policy import *\n",
    "\n",
    "size_board = 4"
   ]
  },
  {
   "cell_type": "markdown",
   "id": "0bceca7c",
   "metadata": {},
   "source": [
    "## The Environment\n",
    "\n",
    "You can find the environment in the file Chess_env, which contains the class Chess_env. To define an object, you need to provide the board size considered as input. In our example, size_board=4. \n",
    "Chess_env is composed by the following methods:\n",
    "\n",
    "1. Initialise_game. The method initialises an episode by placing the three pieces considered (Agent's king and queen, enemy's king) in the chess board. The outputs of the method are described below in order.\n",
    "\n",
    "     S $\\;$ A matrix representing the board locations filled with 4 numbers: 0, no piece in that position; 1, location of the \n",
    "     agent's king; 2 location of the queen; 3 location of the enemy king.\n",
    "     \n",
    "     X $\\;$ The features, that is the input to the neural network. See the assignment for more information regarding the            definition of the features adopted. To personalise this, go into the Features method of the class Chess_env() and change        accordingly.\n",
    "     \n",
    "     allowed_a $\\;$ The allowed actions that the agent can make. The agent is moving a king, with a total number of 8                possible actions, and a queen, with a total number of $(board_{size}-1)\\times 8$ actions. The total number of possible actions correspond      to the sum of the two, but not all actions are allowed in a given position (movements to locations outside the borders or      against chess rules). Thus, the variable allowed_a is a vector that is one (zero) for an action that the agent can (can't)      make. Be careful, apply the policy considered on the actions that are allowed only.\n",
    "     \n",
    "\n",
    "2. OneStep. The method performs a one step update of the system. Given as input the action selected by the agent, it updates the chess board by performing that action and the response of the enemy king (which is a random allowed action in the settings considered). The first three outputs are the same as for the Initialise_game method, but the variables are computed for the position reached after the update of the system. The fourth and fifth outputs are:\n",
    "\n",
    "     R $\\;$ The reward. To change this, look at the OneStep method of the class where the rewards are set.\n",
    "     \n",
    "     Done $\\;$ A variable that is 1 if the episode has ended (checkmate or draw).\n",
    "     \n",
    "     \n",
    "3. Features. Given the chessboard position, the method computes the features.\n",
    "\n",
    "This information and a quick analysis of the class should be all you need to get going. The other functions that the class exploits are uncommented and constitute an example on how not to write a python code. You can take a look at them if you want, but it is not necessary."
   ]
  },
  {
   "cell_type": "markdown",
   "id": "9593a299",
   "metadata": {
    "pycharm": {
     "name": "#%% md\n"
    }
   },
   "source": [
    "#### Initialize env & parameters"
   ]
  },
  {
   "cell_type": "code",
   "execution_count": null,
   "outputs": [],
   "source": [
    "## INITIALISE THE ENVIRONMENT\n",
    "env = Chess_Env(size_board)\n",
    "# INITIALISE THE PARAMETERS OF YOUR NEURAL NETWORK AND...\n",
    "# PLEASE CONSIDER TO USE A MASK OF ONE FOR THE ACTION MADE AND ZERO OTHERWISE IF YOU ARE NOT USING VANILLA GRADIENT DESCENT...\n",
    "# WE SUGGEST A NETWORK WITH ONE HIDDEN LAYER WITH SIZE 200.\n",
    "from Q_values import Q_values\n",
    "from SARSA import sarsa\n",
    "from Double_Q import Double_Q\n",
    "\n",
    "np.random.seed(22)\n",
    "\n",
    "S, X, allowed_a = env.Initialise_game()\n",
    "N_a = np.shape(allowed_a)[0]  # TOTAL NUMBER OF POSSIBLE ACTIONS\n",
    "\n",
    "N_in = np.shape(X)[0]  ## INPUT SIZE\n",
    "N_h = 200  ## NUMBER OF HIDDEN NODES\n",
    "\n",
    "# HYPERPARAMETERS SUGGESTED (FOR A GRID SIZE OF 4)\n",
    "epsilon_0 = 0.2 # STARTING VALUE OF EPSILON FOR THE EPSILON-GREEDY POLICY\n",
    "beta = 0.00005      # THE PARAMETER SETS HOW QUICKLY THE VALUE OF EPSILON IS DECAYING (SEE epsilon_f BELOW)\n",
    "gamma = 0.85  # THE DISCOUNT FACTOR\n",
    "eta = 0.035        # THE LEARNING RATE\n",
    "\n",
    "## INITALISE YOUR NEURAL NETWORK...\n",
    "q_value = Q_values([N_in, N_h, N_a])\n",
    "q_value.nn.momentum = 0.7\n",
    "q_value.gamma = gamma\n",
    "\n",
    "sarsa_v = sarsa([N_in, N_h, N_a])\n",
    "sarsa_v.nn.momentum = 0.7\n",
    "sarsa_v.gamma = gamma\n",
    "\n",
    "double_q_v = Double_Q([N_in, N_h, N_a])\n",
    "double_q_v.Q_primary.nn.momentum = 0.7\n",
    "double_q_v.gamma = gamma\n",
    "double_q_v.update_coefficient = 0.1\n",
    "N_episodes = 100000  # THE NUMBER OF GAMES TO BE PLAYED"
   ],
   "metadata": {
    "collapsed": false,
    "pycharm": {
     "name": "#%%\n"
    }
   }
  },
  {
   "cell_type": "code",
   "execution_count": 5,
   "outputs": [],
   "source": [
    "def agent_action(value_function_model, X, allowed_a):\n",
    "    (V, _) = value_function_model(X)\n",
    "    allow_v = np.copy(V)\n",
    "    allow_v[np.where(allowed_a.flatten() != 1)] = 0\n",
    "    if (np.max(allow_v) == 0):\n",
    "        return np.random.permutation(np.where(allowed_a.flatten() == 1)[0])[0]\n",
    "    else:\n",
    "        return np.argmax(allow_v)\n",
    "\n",
    "def play_one_game(value_function):\n",
    "    S, X, allowed_a = env.Initialise_game()  # INITIALISE GAME\n",
    "    Done = 0  # SET Done=0 AT THE BEGINNING\n",
    "    i = 1  # COUNTER FOR THE NUMBER OF ACTIONS (MOVES) IN AN EPISODE\n",
    "    while Done == 0:\n",
    "        a_agent = agent_action(value_function, X, allowed_a)\n",
    "        S, X, allowed_a, R, Done = env.OneStep(a_agent)\n",
    "        if Done:\n",
    "            return (R, i)\n",
    "        if i > 16:\n",
    "            return (R, i)\n",
    "        i = i + 1\n",
    "\n",
    "\n",
    "def period_validate(function_model, validate_games):\n",
    "    # SAVING VARIABLES\n",
    "    R_save_temp = np.zeros([validate_games, 1])\n",
    "    N_moves_save_temp = np.zeros([validate_games, 1])\n",
    "    for n in range(validate_games):\n",
    "        (R, n_moves) = play_one_game(function_model)\n",
    "        R_save_temp[n] = np.copy(R)\n",
    "        N_moves_save_temp[n] = np.copy(n_moves)\n",
    "    return (np.mean(R_save_temp), np.mean(N_moves_save_temp))\n",
    "\n",
    "\n",
    "def EMA(x, y):\n",
    "    k = 2 / len(x)\n",
    "    ema_seq = []\n",
    "    ema_prev = 0\n",
    "    for t in range(0, len(x)):\n",
    "        y_t = y[t] * k + ema_prev * (1 - k)\n",
    "        ema_prev = y_t\n",
    "        ema_seq.append(y_t)\n",
    "    return (x, ema_seq)\n",
    "\n",
    "import pickle\n",
    "def save_model():\n",
    "    with open(\"saved_model.pkl\", 'wb') as output:\n",
    "        pickle.dump(sarsa_v, output, pickle.HIGHEST_PROTOCOL)\n",
    "        pickle.dump(q_value, output, pickle.HIGHEST_PROTOCOL)\n",
    "        pickle.dump(double_q_v, output, pickle.HIGHEST_PROTOCOL)\n",
    "def load_model():\n",
    "    with open('saved_model.pkl', 'rb') as input:\n",
    "        loaded_sarsa_v = pickle.load(input)\n",
    "        loaded_q_value = pickle.load(input)\n",
    "        loaded_double_q_v = pickle.load(input)\n",
    "        return (loaded_sarsa_v, loaded_q_value, loaded_double_q_v)"
   ],
   "metadata": {
    "collapsed": false,
    "pycharm": {
     "name": "#%%\n"
    }
   }
  },
  {
   "cell_type": "code",
   "execution_count": 6,
   "outputs": [],
   "source": [
    "def train(N_episodes, epsilon_0, model_value_function, model_training_function, model_calculate_next_R,\n",
    "          model_validation_value_function):\n",
    "    # global sarsa_v\n",
    "    # TRAINING LOOP BONE STRUCTURE\n",
    "    R_period_seq = []\n",
    "    N_period_step_seq = []\n",
    "    x_period_axis = []\n",
    "\n",
    "    R_training_seq = []\n",
    "    N_training_seq = []\n",
    "    x_training_seq = []\n",
    "\n",
    "    best_model = (0,None)\n",
    "    for n in range(N_episodes):\n",
    "        epsilon_f = epsilon_0 / (1 + beta * n)  ## DECAYING EPSILON\n",
    "        sarsa_v.epsilon = epsilon_f\n",
    "\n",
    "        Done = 0  ## SET DONE TO ZERO (BEGINNING OF THE EPISODE)\n",
    "        S, X, allowed_a = env.Initialise_game()\n",
    "\n",
    "        while Done == 0:  ## START THE EPISODE\n",
    "            (value_s, neuron_value) = model_value_function(X)\n",
    "            a_agent = epsilon_greedy(value_s, np.asarray(allowed_a), epsilon_f)\n",
    "\n",
    "            S_next, X_next, allowed_a_next, R, Done = env.OneStep(a_agent)\n",
    "\n",
    "            if Done == 1:\n",
    "                model_training_function(eta, neuron_value, a_agent, R, value_s)\n",
    "                break\n",
    "            else:\n",
    "                ## for Double Q, use primary online value function to do argmax\n",
    "                (V_next, _) = model_value_function(X_next)\n",
    "                future_R = model_calculate_next_R(V_next, allowed_a_next, X_next)\n",
    "                model_training_function(eta, neuron_value, a_agent, future_R, value_s, )\n",
    "\n",
    "            # NEXT STATE AND CO. BECOME ACTUAL STATE...\n",
    "            S = np.copy(S_next)\n",
    "            X = np.copy(X_next)\n",
    "            allowed_a = np.copy(allowed_a_next)\n",
    "\n",
    "        ## record epic\n",
    "        (R, n_moves) = play_one_game(model_validation_value_function)\n",
    "        x_training_seq.append(n)\n",
    "        R_training_seq.append(R)\n",
    "        N_training_seq.append(n_moves)\n",
    "        # (_, ema_seq) = EMA(x_training_seq, R_training_seq)\n",
    "        # if( len(ema_seq) > 1):\n",
    "        #     ema_q = ema_seq[-1]\n",
    "        #     if (ema_q>0.999):\n",
    "        #         return [(x_period_axis, R_period_seq, N_period_step_seq),\n",
    "        #                 (x_training_seq, R_training_seq, N_training_seq)]\n",
    "\n",
    "        ## temp validate\n",
    "        if (n % 1000 == 0):\n",
    "            (avg_R, avg_n) = period_validate(model_validation_value_function, 200)\n",
    "            print(f\"\\r Training process {np.round(n / N_episodes * 100, 2)}%  \"\n",
    "                  f\"avg_R: {np.round(avg_R, 2)}, avg_steps:{np.round(avg_n, 2)}\", end=\"\", flush=True)\n",
    "            x_period_axis.append(n)\n",
    "            R_period_seq.append(avg_R)\n",
    "            N_period_step_seq.append(avg_n)\n",
    "\n",
    "            if (avg_R > 0.99):\n",
    "                return [(x_period_axis, R_period_seq, N_period_step_seq),\n",
    "                        (x_training_seq, R_training_seq, N_training_seq)]\n",
    "\n",
    "    return [(x_period_axis, R_period_seq, N_period_step_seq),\n",
    "            (x_training_seq, R_training_seq, N_training_seq)]"
   ],
   "metadata": {
    "collapsed": false,
    "pycharm": {
     "name": "#%%\n"
    }
   }
  },
  {
   "cell_type": "markdown",
   "source": [
    "#### Q Learning Training"
   ],
   "metadata": {
    "collapsed": false
   }
  },
  {
   "cell_type": "code",
   "execution_count": 7,
   "outputs": [
    {
     "name": "stderr",
     "output_type": "stream",
     "text": [
      "/Library/Frameworks/Python.framework/Versions/3.9/lib/python3.9/site-packages/numpy/lib/function_base.py:804: VisibleDeprecationWarning: Creating an ndarray from ragged nested sequences (which is a list-or-tuple of lists-or-tuples-or ndarrays with different lengths or shapes) is deprecated. If you meant to do this, you must specify 'dtype=object' when creating the ndarray.\n",
      "  return array(a, order=order, subok=subok, copy=True)\n"
     ]
    },
    {
     "name": "stdout",
     "output_type": "stream",
     "text": [
      " Training process 12.0%  avg_R: 1.0, avg_steps:2.284\n"
     ]
    }
   ],
   "source": [
    "Q_traing_his = train(N_episodes, epsilon_0,\n",
    "                     lambda X: q_value.q_values(X),\n",
    "                     lambda eta, neuron_value, a_agent, R, qv_s: q_value.update_q_func(eta, neuron_value, a_agent, R, qv_s),\n",
    "                     lambda V_next, allowed_next,X_next: q_value.calculate_next_Q(V_next, allowed_a, X_next),\n",
    "                     lambda X: q_value.q_values(X)\n",
    "                     )\n",
    "(Q_x_axis, Q_R_seq, Q_N_step_seq) = Q_traing_his[0]\n",
    "(Q_x_training_seq, Q_R_training_seq, Q_N_training_seq) = Q_traing_his[1]\n",
    "print()"
   ],
   "metadata": {
    "collapsed": false,
    "pycharm": {
     "name": "#%%\n"
    }
   }
  },
  {
   "cell_type": "markdown",
   "source": [
    "#### SARSA Training"
   ],
   "metadata": {
    "collapsed": false,
    "pycharm": {
     "name": "#%% md\n"
    }
   }
  },
  {
   "cell_type": "code",
   "execution_count": 8,
   "outputs": [
    {
     "name": "stdout",
     "output_type": "stream",
     "text": [
      " Training process 13.0%  avg_R: 1.0, avg_steps:2.746\n"
     ]
    }
   ],
   "source": [
    "Sarsa_his = train(N_episodes, epsilon_0,\n",
    "                  lambda X: sarsa_v.sarsa_value(X),\n",
    "                  lambda eta, neuron_value, a_agent, R, qv_s: sarsa_v.update_sarsa_func(eta, neuron_value, a_agent, R,\n",
    "                                                                                        qv_s),\n",
    "                  lambda V_next, allowed_next, X_next: sarsa_v.calculate_next_V(V_next, allowed_a, X_next),\n",
    "                  lambda X: sarsa_v.sarsa_value(X)\n",
    "                  )\n",
    "(Sarsa_x_axis, Sarsa_R_seq, Sarsa_N_step_seq) = Sarsa_his[0]\n",
    "(Sarsa_x_training_seq, Sarsa_R_training_seq, Sarsa_N_training_seq) = Sarsa_his[1]\n",
    "print()"
   ],
   "metadata": {
    "collapsed": false,
    "pycharm": {
     "name": "#%%\n"
    }
   }
  },
  {
   "cell_type": "markdown",
   "source": [
    "#### Double-Q Training"
   ],
   "metadata": {
    "collapsed": false,
    "pycharm": {
     "name": "#%% md\n"
    }
   }
  },
  {
   "cell_type": "code",
   "execution_count": 26,
   "outputs": [
    {
     "name": "stderr",
     "output_type": "stream",
     "text": [
      "/Library/Frameworks/Python.framework/Versions/3.9/lib/python3.9/site-packages/numpy/lib/function_base.py:804: VisibleDeprecationWarning: Creating an ndarray from ragged nested sequences (which is a list-or-tuple of lists-or-tuples-or ndarrays with different lengths or shapes) is deprecated. If you meant to do this, you must specify 'dtype=object' when creating the ndarray.\n",
      "  return array(a, order=order, subok=subok, copy=True)\n"
     ]
    },
    {
     "name": "stdout",
     "output_type": "stream",
     "text": [
      " Training process 9.0%  avg_R: 1.0, avg_steps:2.86\n"
     ]
    }
   ],
   "source": [
    "double_q_his = train(N_episodes, epsilon_0,\n",
    "                     lambda X: double_q_v.q_primary_value(X),\n",
    "                     lambda eta, neuron_value, a_agent, R, qv_s: double_q_v.update_func(eta, neuron_value, a_agent, R,\n",
    "                                                                                        qv_s),\n",
    "                     lambda V_next, allowed_next, X_next: double_q_v.next_action_Q(V_next, allowed_a, X_next),\n",
    "                     lambda X: double_q_v.q_primary_value(X)\n",
    "                     )\n",
    "(dq_x_axis, dq_R_seq, dq_N_step_seq) = double_q_his[0]\n",
    "(dq_x_training_seq, dq_R_training_seq, dq_N_training_seq) = double_q_his[1]\n",
    "print()"
   ],
   "metadata": {
    "collapsed": false,
    "pycharm": {
     "name": "#%%\n"
    }
   }
  },
  {
   "cell_type": "markdown",
   "source": [
    "#### Test Model"
   ],
   "metadata": {
    "collapsed": false,
    "pycharm": {
     "name": "#%% md\n"
    }
   }
  },
  {
   "cell_type": "code",
   "execution_count": null,
   "outputs": [],
   "source": [
    "import sys, importlib\n",
    "importlib.reload(sys.modules['Chess_env'])\n",
    "# PERFORM N_episodes=1000 EPISODES MAKING RANDOM ACTIONS AND COMPUTE THE AVERAGE REWARD AND NUMBER OF MOVES\n",
    "def test(agent, agent_tag):\n",
    "    N_episodes = 10000\n",
    "    R_save = np.zeros([N_episodes, 1])\n",
    "    N_moves_save = np.zeros([N_episodes, 1])\n",
    "    for n in range(N_episodes):\n",
    "        (R, i) = play_one_game(agent)\n",
    "        R_save[n] = np.copy(R)\n",
    "        N_moves_save[n] = np.copy(i)\n",
    "    print(f'Agent {agent_tag}, Average reward:', np.mean(R_save), 'Number of steps: ', np.mean(N_moves_save))\n",
    "\n",
    "#random\n",
    "# test(lambda X_in: (np.random.random(32), [] ), \"Random Agent\")\n",
    "# test(lambda X_in: q_value.q_values(X_in), \"Q_agent\")\n",
    "# test(lambda X_in: sarsa_v.sarsa_value(X_in), \"Sarsa_agent\")\n",
    "# test(lambda X_in: double_q_v.q_primary_value(X_in), \"Double Q\")\n",
    "\n",
    "# save_model()"
   ],
   "metadata": {
    "collapsed": false,
    "pycharm": {
     "name": "#%%\n"
    }
   }
  },
  {
   "cell_type": "markdown",
   "source": [
    "#### Best Model performance"
   ],
   "metadata": {
    "collapsed": false,
    "pycharm": {
     "name": "#%% md\n"
    }
   }
  },
  {
   "cell_type": "code",
   "execution_count": 25,
   "outputs": [
    {
     "name": "stdout",
     "output_type": "stream",
     "text": [
      "Agent Q_agent, Average reward: 0.9966 Number of steps:  2.2923\n",
      "Agent Sarsa_agent, Average reward: 0.9983 Number of steps:  2.5991\n",
      "Agent Double Q, Average reward: 0.9943 Number of steps:  2.8991\n"
     ]
    }
   ],
   "source": [
    "## load saved model\n",
    "(loaded_sarsa_v, loaded_q_value, loaded_double_q_v) = load_model()\n",
    "test(lambda X_in: q_value.q_values(X_in), \"Q_agent\")\n",
    "test(lambda X_in: sarsa_v.sarsa_value(X_in), \"Sarsa_agent\")\n",
    "test(lambda X_in: double_q_v.q_primary_value(X_in), \"Double Q\")"
   ],
   "metadata": {
    "collapsed": false,
    "pycharm": {
     "name": "#%%\n"
    }
   }
  },
  {
   "cell_type": "markdown",
   "source": [
    "#### save training process data"
   ],
   "metadata": {
    "collapsed": false,
    "pycharm": {
     "name": "#%% md\n"
    }
   }
  },
  {
   "cell_type": "code",
   "execution_count": null,
   "outputs": [],
   "source": [
    "## save training process data\n",
    "def assemble_data(label, x, avg_R, avg_N, x_training_seq, R_training_seq, N_training_seq):\n",
    "    f_x=f\"{label}_x_axis={str(x)}\"\n",
    "    f_avg_R = f\"{label}_avg_R={str(avg_R)}\"\n",
    "    f_avg_N = f\"{label}_avg_N={str(avg_N)}\"\n",
    "    f_x_training_seq = f\"{label}_x_training_seq={str(x_training_seq)}\"\n",
    "    f_R_training_seq = f\"{label}_R_training_seq={str(R_training_seq)}\"\n",
    "    f_N_training_seq = f\"{label}_N_training_seq={str(N_training_seq)}\"\n",
    "    return [f_x, f_avg_R, f_avg_N, f_x_training_seq, f_R_training_seq, f_N_training_seq]\n",
    "\n",
    "f = open(\"data.py\", \"a\")\n",
    "output = []\n",
    "Q_data = assemble_data(\"Q_Learning\", Q_x_axis, Q_R_seq, Q_N_step_seq,\n",
    "                       Q_x_training_seq, Q_R_training_seq, Q_N_training_seq )\n",
    "SARSA_data = assemble_data(\"SARSA\", Sarsa_x_axis, Sarsa_R_seq, Sarsa_N_step_seq,\n",
    "                           Sarsa_x_training_seq, Sarsa_R_training_seq, Sarsa_N_training_seq)\n",
    "Dq_data = assemble_data(\"Double_Q\", dq_x_axis, dq_R_seq, dq_N_step_seq,\n",
    "                        dq_x_training_seq, dq_R_training_seq, dq_N_training_seq)\n",
    "output.extend(Q_data)\n",
    "output.extend(SARSA_data)\n",
    "output.extend(Dq_data)\n",
    "for s in output:\n",
    "    # f.write(s+\"\\n\")\n",
    "    pass\n",
    "f.close()"
   ],
   "metadata": {
    "collapsed": false,
    "pycharm": {
     "name": "#%%\n"
    }
   }
  },
  {
   "cell_type": "code",
   "execution_count": 27,
   "outputs": [
    {
     "data": {
      "text/plain": "<matplotlib.legend.Legend at 0x7fc1af97b820>"
     },
     "execution_count": 27,
     "metadata": {},
     "output_type": "execute_result"
    },
    {
     "data": {
      "text/plain": "<Figure size 432x288 with 1 Axes>",
      "image/png": "[encoded data removed]"
     },
     "metadata": {
      "needs_background": "light"
     },
     "output_type": "display_data"
    },
    {
     "data": {
      "text/plain": "<Figure size 432x288 with 1 Axes>",
      "image/png": "[encoded data removed]"
     },
     "metadata": {
      "needs_background": "light"
     },
     "output_type": "display_data"
    },
    {
     "data": {
      "text/plain": "<Figure size 432x288 with 1 Axes>",
      "image/png": "[encoded data removed]"
     },
     "metadata": {
      "needs_background": "light"
     },
     "output_type": "display_data"
    },
    {
     "data": {
      "text/plain": "<Figure size 432x288 with 1 Axes>",
      "image/png": "[encoded data removed]"
     },
     "metadata": {
      "needs_background": "light"
     },
     "output_type": "display_data"
    }
   ],
   "source": [
    "import sys, importlib\n",
    "from best_model_data import *\n",
    "importlib.reload(sys.modules['data'])\n",
    "\n",
    "plt.figure(1)\n",
    "plt.title(\"Average R value\")\n",
    "plt.plot(Q_Learning_x_axis, Q_Learning_avg_R, label=\"Q Learning\")\n",
    "plt.plot(SARSA_x_axis, SARSA_avg_R, label=\"SARSA\")\n",
    "plt.plot(Double_Q_x_axis, Double_Q_avg_R, label=\"Double Q\")\n",
    "plt.legend()\n",
    "\n",
    "plt.figure(2)\n",
    "plt.title(\"Average Checkmate steps\")\n",
    "plt.plot(Q_Learning_x_axis, Q_Learning_avg_N, label=\"Q learning\")\n",
    "plt.plot(SARSA_x_axis, SARSA_avg_N, label=\"SARSA\")\n",
    "plt.plot(Double_Q_x_axis, Double_Q_avg_N, label=\"Double Q\")\n",
    "plt.legend()\n",
    "\n",
    "k = (len(SARSA_x_training_seq))\n",
    "(Sarsa_ema_x, Sarsa_R_ema) = EMA(SARSA_x_training_seq, SARSA_R_training_seq)\n",
    "(Q_ema_x, Q_R_ema) = EMA(Q_Learning_x_training_seq, Q_Learning_R_training_seq)\n",
    "(Dq_ema_x, Dq_R_ema) = EMA(Double_Q_x_training_seq, Double_Q_R_training_seq)\n",
    "(_, Sarsa_N_ema) = EMA(SARSA_x_training_seq, SARSA_N_training_seq)\n",
    "(_, Q_N_ema) = EMA(Q_Learning_x_training_seq, Q_Learning_N_training_seq)\n",
    "(_, Dq_N_ema) = EMA(Double_Q_x_training_seq, Double_Q_N_training_seq)\n",
    "\n",
    "plt.figure(3)\n",
    "plt.title(\"R EMA trend\")\n",
    "plt.plot(Q_ema_x, Q_R_ema, label=\"Q learning\")\n",
    "plt.plot(Sarsa_ema_x, Sarsa_R_ema, label=\"SARSA\")\n",
    "plt.plot(Dq_ema_x, Dq_R_ema, label=\"Double Q\")\n",
    "plt.legend()\n",
    "\n",
    "plt.figure(4)\n",
    "plt.title(\"N EMA trend\")\n",
    "plt.plot(Q_ema_x, Q_N_ema, label=\"Q learning\")\n",
    "plt.plot(Sarsa_ema_x, Sarsa_N_ema, label=\"SARSA\")\n",
    "plt.plot(Dq_ema_x, Dq_N_ema , label=\"Double Q\")\n",
    "plt.legend()"
   ],
   "metadata": {
    "collapsed": false,
    "pycharm": {
     "name": "#%%\n"
    }
   }
  },
  {
   "cell_type": "code",
   "execution_count": null,
   "outputs": [],
   "source": [],
   "metadata": {
    "collapsed": false,
    "pycharm": {
     "name": "#%%\n"
    }
   }
  }
 ],
 "metadata": {
  "kernelspec": {
   "display_name": "Python 3 (ipykernel)",
   "language": "python",
   "name": "python3"
  },
  "language_info": {
   "codemirror_mode": {
    "name": "ipython",
    "version": 3
   },
   "file_extension": ".py",
   "mimetype": "text/x-python",
   "name": "python",
   "nbconvert_exporter": "python",
   "pygments_lexer": "ipython3",
   "version": "3.9.10"
  }
 },
 "nbformat": 4,
 "nbformat_minor": 5
}