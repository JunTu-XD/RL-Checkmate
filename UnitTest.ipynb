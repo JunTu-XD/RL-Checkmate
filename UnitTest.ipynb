{
 "cells": [
  {
   "cell_type": "code",
   "execution_count": 1,
   "metadata": {
    "collapsed": true
   },
   "outputs": [
    {
     "name": "stdout",
     "output_type": "stream",
     "text": [
      "-------------------\n",
      "0\n",
      "W(3, 4)\n",
      "b(4,)\n",
      "\n",
      "1\n",
      "W(4, 2)\n",
      "b(2,)\n",
      "\n",
      "-------------------\n",
      "(array([1, 2, 3]), array([1, 2, 3]))\n",
      "(array([ 7., 15., 13.,  9.]), array([ 7., 15., 13.,  9.]))\n",
      "(array([72., 95.]), array([72., 95.]))\n",
      "[72. 95.]\n",
      "-------------------\n",
      "d_w1\n",
      "[[1. 2. 2. 1.]\n",
      " [2. 4. 4. 2.]\n",
      " [3. 6. 6. 3.]]\n",
      "d_b1\n",
      "[1. 2. 2. 1.]\n",
      "d_a1\n",
      "[[1. 2. 2. 1.]]\n",
      "d_w2\n",
      "[[ 7.  0.]\n",
      " [15.  0.]\n",
      " [13.  0.]\n",
      " [ 9.  0.]]\n",
      "d_b2\n",
      "[1. 0.]\n",
      "d_a2\n",
      "[[1 0]]\n"
     ]
    },
    {
     "name": "stderr",
     "output_type": "stream",
     "text": [
      "/Library/Frameworks/Python.framework/Versions/3.9/lib/python3.9/site-packages/numpy/lib/function_base.py:804: VisibleDeprecationWarning: Creating an ndarray from ragged nested sequences (which is a list-or-tuple of lists-or-tuples-or ndarrays with different lengths or shapes) is deprecated. If you meant to do this, you must specify 'dtype=object' when creating the ndarray.\n",
      "  return array(a, order=order, subok=subok, copy=True)\n"
     ]
    }
   ],
   "source": [
    "import sys, importlib\n",
    "from Q_values import Q_values\n",
    "from NeuralNet import NeuralNet\n",
    "importlib.reload(sys.modules['Q_values'])\n",
    "importlib.reload(sys.modules['NeuralNet'])\n",
    "import numpy as np\n",
    "from generate_game import generate_game\n",
    "print(\"-------------------\")\n",
    "nn = NeuralNet([3,4,2])\n",
    "for idx in range(len(nn.W_bias)):\n",
    "    print(idx)\n",
    "    print(\"W\" + str(np.asarray(nn.W_bias[idx][0]).shape))\n",
    "    print(\"b\" + str(np.asarray(nn.W_bias[idx][1]).shape))\n",
    "    print()\n",
    "print(\"-------------------\")\n",
    "W1 = np.asarray([\n",
    "    [1,1,1,1],\n",
    "    [1,2,1,2],\n",
    "    [1,3,3,1]\n",
    "])\n",
    "b1 = np.ones(4)\n",
    "\n",
    "W2 = np.asarray(\n",
    "    [[1,2],[2,1],[2,3],[1,3]])\n",
    "b2 = np.zeros((2))\n",
    "nn.W_bias=[(W1,b1), (W2,b2)]\n",
    "(output, nv) = nn.feedforward([1,2,3])\n",
    "\n",
    "for n in nv:\n",
    "    print(n)\n",
    "print(\"-------------------\")\n",
    "\n",
    "delta=np.asarray([1,0])\n",
    "r = nn.partial_derivative( [(W1, b1), (W2, b2)], delta, nv )\n",
    "id = 1\n",
    "for i in r:\n",
    "    print(\"d_w\"+str(id))\n",
    "    print(i[0])\n",
    "    print(\"d_b\"+str(id))\n",
    "    print(i[1])\n",
    "    print(\"d_a\"+str(id))\n",
    "    print(i[2])\n",
    "    id+=1"
   ]
  },
  {
   "cell_type": "code",
   "execution_count": 2,
   "metadata": {
    "collapsed": false,
    "pycharm": {
     "name": "#%%\n"
    }
   },
   "outputs": [
    {
     "name": "stdout",
     "output_type": "stream",
     "text": [
      "nn output\n",
      "[19. 25. 23.]\n",
      "Q\n",
      "[19. 25. 23.]\n",
      "-------------------------\n",
      "nn deriv\n",
      "w1 [[ 19.  19.  57.]\n",
      " [ 38.  38. 114.]] \n",
      " b1 [19. 19. 57.]\n",
      "w2 [[  0.   0.  76.]\n",
      " [  0.   0. 114.]\n",
      " [  0.   0.  76.]] \n",
      " b2 [ 0.  0. 19.]\n",
      "calculate deriv\n",
      "d W1 [[ -19.  -19.  -57.]\n",
      " [ -38.  -38. -114.]] \n",
      " b1 [-19. -19. -57.]\n",
      " d W2 [ -76. -114.  -76.] \n",
      " b2 -19.0\n",
      "-------------------\n",
      "update\n",
      "1 w\n",
      " [[ -18.  -18.  -56.]\n",
      " [ -37.  -36. -113.]] \n",
      " b\n",
      " [-18. -18. -56.]  \n",
      "2 w\n",
      " [[   1.    1.  -75.]\n",
      " [   1.    2. -113.]\n",
      " [   2.    2.  -73.]] \n",
      " b\n",
      " [  1.   1. -18.]  \n",
      "calculate update\n",
      "1 w\n",
      " [[ -18.  -18.  -56.]\n",
      " [ -37.  -36. -113.]] \n",
      " b \n",
      "[-18. -18. -56.]  \n",
      "2 w\n",
      " [[   1.    1.  -75.]\n",
      " [   1.    2. -113.]\n",
      " [   2.    2.  -73.]] \n",
      " b\n",
      " [  1.   1. -18.]  \n"
     ]
    }
   ],
   "source": [
    "eta = 1\n",
    "a_agent = 2\n",
    "R = 4\n",
    "W1 = np.asarray([\n",
    "    [1.,1.,1.],\n",
    "    [1.,2.,1.]\n",
    "])\n",
    "b1 = np.ones(3)\n",
    "W2 = np.asarray([\n",
    "    [1.,1.,1.],\n",
    "    [1.,2.,1.],\n",
    "    [2.,2.,3.]\n",
    "])\n",
    "b2 = np.ones(3)\n",
    "x = [1,2]\n",
    "x1 = np.asarray(x).dot(W1)+b1\n",
    "Q = x1.dot(W2)+b2\n",
    "delta = R - Q[a_agent]\n",
    "\n",
    "delta_W2 = eta * delta * x1\n",
    "delta_W1 = eta * np.outer(x, delta * W2[:, a_agent] * (x1 > 0))\n",
    "\n",
    "nn = NeuralNet([2,3,3,2])\n",
    "nn.W_bias=[(W1,b1),(W2,b2)]\n",
    "(nno, nnv) = nn.feedforward(x)\n",
    "print(\"nn output\")\n",
    "print(nno)\n",
    "print(\"Q\")\n",
    "print(Q)\n",
    "print(\"-------------------------\")\n",
    "\n",
    "delta_v = np.zeros(len(b2))\n",
    "delta_v[a_agent] = delta\n",
    "dw = nn.partial_derivative(nn.W_bias,-delta_v,nnv)\n",
    "print(\"nn deriv\")\n",
    "print(f\"w1 {dw[0][0]} \\n b1 {dw[0][1]}\")\n",
    "print(f\"w2 {dw[1][0]} \\n b2 {dw[1][1]}\")\n",
    "print(\"calculate deriv\")\n",
    "print(f\"d W1 {delta_W1} \\n b1 {delta*W2[:,a_agent]*(x1>0)}\\n \"\n",
    "      f\"d W2 {delta_W2} \\n b2 {delta}\")\n",
    "print(\"-------------------\")\n",
    "\n",
    "# nn.update(eta,nnv, -delta_v)\n",
    "nn.momentum_gradient_decent(eta, -delta_v, nnv)\n",
    "# nn.momentum_gradient_decent(eta, -delta_v, nnv)\n",
    "print(\"update\")\n",
    "idx = 0\n",
    "for wb in nn.W_bias:\n",
    "    print(f\"{idx+1} w\\n {wb[0]} \\n b\\n {wb[1]}  \")\n",
    "    idx+=1\n",
    "\n",
    "print(\"calculate update\")\n",
    "b1 = b1 + eta * delta * W2[:, a_agent] * (x1>0)\n",
    "W1 = W1 + eta * delta_W1\n",
    "\n",
    "W2[:, a_agent] = W2[:, a_agent] + eta * delta_W2\n",
    "b2[a_agent] = b2[a_agent] + eta * delta\n",
    "print(f\"{1} w\\n {W1} \\n b \\n{b1}  \")\n",
    "print(f\"{2} w\\n {W2} \\n b\\n {b2}  \")\n"
   ]
  },
  {
   "cell_type": "code",
   "execution_count": 3,
   "metadata": {
    "collapsed": false,
    "pycharm": {
     "name": "#%%\n"
    }
   },
   "outputs": [
    {
     "name": "stdout",
     "output_type": "stream",
     "text": [
      "[(array([[ 0.28212548, -0.01158026]]), array([0., 0.])), (array([[-0.04928042,  0.16533779, -0.10575301],\n",
      "       [ 0.18675849,  0.12438778, -0.15242222]]), array([0., 0., 0.]))]\n"
     ]
    },
    {
     "data": {
      "text/plain": [
       "[(array([[ 0.28212548, -0.01158026]]), array([0., 0.])),\n",
       " (array([[-0.04928042,  0.16533779, -0.10575301],\n",
       "         [ 0.18675849,  0.12438778, -0.15242222]]),\n",
       "  array([0., 0., 0.]))]"
      ]
     },
     "execution_count": 3,
     "metadata": {},
     "output_type": "execute_result"
    }
   ],
   "source": [
    "from Double_Q import Double_Q\n",
    "dq = Double_Q([1,2,3])\n",
    "print(dq.Q_primary.nn.W_bias)\n",
    "dq.Q_primary.nn.W_bias=[213213]\n",
    "dq.Q_target.nn.W_bias"
   ]
  },
  {
   "cell_type": "code",
   "execution_count": null,
   "metadata": {
    "collapsed": false,
    "pycharm": {
     "name": "#%%\n"
    }
   },
   "outputs": [],
   "source": []
  }
 ],
 "metadata": {
  "kernelspec": {
   "display_name": "Python 3",
   "language": "python",
   "name": "python3"
  },
  "language_info": {
   "codemirror_mode": {
    "name": "ipython",
    "version": 3
   },
   "file_extension": ".py",
   "mimetype": "text/x-python",
   "name": "python",
   "nbconvert_exporter": "python",
   "pygments_lexer": "ipython3",
   "version": "3.9.7"
  }
 },
 "nbformat": 4,
 "nbformat_minor": 0
}
